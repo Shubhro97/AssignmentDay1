{
  "nbformat": 4,
  "nbformat_minor": 0,
  "metadata": {
    "colab": {
      "name": "Python for Data Science Day 1 Assignment.ipynb",
      "provenance": [],
      "collapsed_sections": [],
      "authorship_tag": "ABX9TyMii2AF2BRaBla+GTX4wZaV",
      "include_colab_link": true
    },
    "kernelspec": {
      "name": "python3",
      "display_name": "Python 3"
    },
    "language_info": {
      "name": "python"
    }
  },
  "cells": [
    {
      "cell_type": "markdown",
      "metadata": {
        "id": "view-in-github",
        "colab_type": "text"
      },
      "source": [
        "<a href=\"https://colab.research.google.com/github/Shubhro97/AssignmentDay1/blob/main/Python_for_Data_Science_Day_1_Assignment.ipynb\" target=\"_parent\"><img src=\"https://colab.research.google.com/assets/colab-badge.svg\" alt=\"Open In Colab\"/></a>"
      ]
    },
    {
      "cell_type": "code",
      "metadata": {
        "id": "uIGAeEhULLup"
      },
      "source": [
        "a=10\n",
        "b=20"
      ],
      "execution_count": 1,
      "outputs": []
    },
    {
      "cell_type": "code",
      "metadata": {
        "colab": {
          "base_uri": "https://localhost:8080/"
        },
        "id": "rDFKgwPvN_oi",
        "outputId": "937e8dc3-c998-4ef3-e2db-86bbaef2d15f"
      },
      "source": [
        "print(a*b)"
      ],
      "execution_count": 2,
      "outputs": [
        {
          "output_type": "stream",
          "name": "stdout",
          "text": [
            "200\n"
          ]
        }
      ]
    },
    {
      "cell_type": "code",
      "metadata": {
        "colab": {
          "base_uri": "https://localhost:8080/"
        },
        "id": "DD4u9zJtOFmL",
        "outputId": "691ac28c-267c-4825-ec03-e5a65d23b624"
      },
      "source": [
        "print(a/b)"
      ],
      "execution_count": 3,
      "outputs": [
        {
          "output_type": "stream",
          "name": "stdout",
          "text": [
            "0.5\n"
          ]
        }
      ]
    },
    {
      "cell_type": "code",
      "metadata": {
        "colab": {
          "base_uri": "https://localhost:8080/"
        },
        "id": "hdGcE2iEOJeg",
        "outputId": "9a6ac2ca-9cd5-455f-8559-e30624a66741"
      },
      "source": [
        "print(a%b)"
      ],
      "execution_count": 4,
      "outputs": [
        {
          "output_type": "stream",
          "name": "stdout",
          "text": [
            "10\n"
          ]
        }
      ]
    },
    {
      "cell_type": "code",
      "metadata": {
        "colab": {
          "base_uri": "https://localhost:8080/"
        },
        "id": "BZ-oROCAOPXG",
        "outputId": "3bbb9b5e-ae68-45e6-97fd-a737892da768"
      },
      "source": [
        "print((a*b)+(a/b))"
      ],
      "execution_count": 5,
      "outputs": [
        {
          "output_type": "stream",
          "name": "stdout",
          "text": [
            "200.5\n"
          ]
        }
      ]
    },
    {
      "cell_type": "code",
      "metadata": {
        "colab": {
          "base_uri": "https://localhost:8080/"
        },
        "id": "i-yctLzZPoxT",
        "outputId": "3291d5f5-33d0-4f7e-efef-21514e014cbe"
      },
      "source": [
        "p=float (input(\"Enter principle amount: \"))\n",
        "r=float (input(\"Enter rate of interest: \"))\n",
        "t=float (input(\"Enter time: \"))\n",
        "si=p*r*t/100\n",
        "print (\"Simple Interest is\",si)"
      ],
      "execution_count": 8,
      "outputs": [
        {
          "output_type": "stream",
          "name": "stdout",
          "text": [
            "Enter principle amount: 40500\n",
            "Enter rate of interest: 8\n",
            "Enter time: 3\n",
            "Simple Interest is 9720.0\n"
          ]
        }
      ]
    }
  ]
}